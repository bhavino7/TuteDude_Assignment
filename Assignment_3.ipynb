{
 "cells": [
  {
   "cell_type": "code",
   "execution_count": 26,
   "id": "fbafab1b-14d7-4639-92aa-7c904bb36769",
   "metadata": {},
   "outputs": [
    {
     "name": "stdin",
     "output_type": "stream",
     "text": [
      "Enter a number:  5\n"
     ]
    },
    {
     "name": "stdout",
     "output_type": "stream",
     "text": [
      "The factorial of 5 is: 120\n"
     ]
    }
   ],
   "source": [
    "n = int(input(\"Enter a number: \"))\n",
    "def factorial(n):\n",
    "    if n == 0 or n ==1:\n",
    "        return 1\n",
    "    else:\n",
    "        return n * factorial (n-1)\n",
    "\n",
    "n =5\n",
    "print (f\"The factorial of {n} is:\", factorial(n))"
   ]
  },
  {
   "cell_type": "code",
   "execution_count": 31,
   "id": "525b1990-ce32-4c79-8ef0-aa1534e8e035",
   "metadata": {},
   "outputs": [
    {
     "name": "stdin",
     "output_type": "stream",
     "text": [
      "Enter a number:  25\n"
     ]
    },
    {
     "name": "stdout",
     "output_type": "stream",
     "text": [
      "\n",
      "Results:\n",
      "Square Root of 25.0: 5.0\n",
      "Natural Logarithm of 25.0: 3.2188758248682006\n",
      "Sine of 25.0 (in radians): -0.13235175009777303\n"
     ]
    }
   ],
   "source": [
    "import math\n",
    "\n",
    "# Step 1: Ask user for a number\n",
    "num = float(input(\"Enter a number: \"))\n",
    "\n",
    "# Step 2: Perform calculations\n",
    "sqrt_value = math.sqrt(num) if num >= 0 else \"Not defined for negative numbers\"\n",
    "log_value = math.log(num) if num > 0 else \"Not defined for zero or negative numbers\"\n",
    "sine_value = math.sin(num)  # in radians\n",
    "\n",
    "# Step 3: Display results\n",
    "print(\"\\nResults:\")\n",
    "print(f\"Square Root of {num}: {sqrt_value}\")\n",
    "print(f\"Natural Logarithm of {num}: {log_value}\")\n",
    "print(f\"Sine of {num} (in radians): {sine_value}\")\n"
   ]
  },
  {
   "cell_type": "code",
   "execution_count": null,
   "id": "ea69c535-8a7e-4b1b-bfdd-f4846f214857",
   "metadata": {},
   "outputs": [],
   "source": []
  }
 ],
 "metadata": {
  "kernelspec": {
   "display_name": "Python 3 (ipykernel)",
   "language": "python",
   "name": "python3"
  },
  "language_info": {
   "codemirror_mode": {
    "name": "ipython",
    "version": 3
   },
   "file_extension": ".py",
   "mimetype": "text/x-python",
   "name": "python",
   "nbconvert_exporter": "python",
   "pygments_lexer": "ipython3",
   "version": "3.12.3"
  }
 },
 "nbformat": 4,
 "nbformat_minor": 5
}
