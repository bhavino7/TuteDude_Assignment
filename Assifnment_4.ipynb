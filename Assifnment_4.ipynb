{
 "cells": [
  {
   "cell_type": "markdown",
   "id": "2561dd49-70ae-497a-859d-6e9abd9650ab",
   "metadata": {},
   "source": [
    "### Task-1"
   ]
  },
  {
   "cell_type": "code",
   "execution_count": 1,
   "id": "4ba04c76-13e5-4a77-b404-53d65f72b27b",
   "metadata": {},
   "outputs": [
    {
     "name": "stdout",
     "output_type": "stream",
     "text": [
      "Error: The file 'sample.txt' was not found.\n"
     ]
    }
   ],
   "source": [
    "# Task 1: Read a File and Handle Errors\n",
    "\n",
    "try:\n",
    "    # Try to open the file in read mode\n",
    "    with open(\"sample.txt\", \"r\") as file:\n",
    "        # Read and print line by line\n",
    "        for line in file:\n",
    "            print(line.strip())   # strip() removes newline characters\n",
    "except FileNotFoundError:\n",
    "    # If the file does not exist, handle the error\n",
    "    print(\"Error: The file 'sample.txt' was not found.\")\n",
    "except Exception as e:\n",
    "    # Any other unexpected error\n",
    "    print(f\"An unexpected error occurred: {e}\")\n"
   ]
  },
  {
   "cell_type": "markdown",
   "id": "1f13b41e-4e15-4436-85e5-07ac2c4132dc",
   "metadata": {},
   "source": [
    "### Task-2"
   ]
  },
  {
   "cell_type": "code",
   "execution_count": 2,
   "id": "efd33496-a583-4880-ab1c-9d40f438d78d",
   "metadata": {},
   "outputs": [
    {
     "name": "stdin",
     "output_type": "stream",
     "text": [
      "Enter some text to write to the file:  Hello Python!\n"
     ]
    },
    {
     "name": "stdout",
     "output_type": "stream",
     "text": [
      "Data written to output.txt.\n"
     ]
    },
    {
     "name": "stdin",
     "output_type": "stream",
     "text": [
      "Enter some more text to append:  Learning File handing in python!\n"
     ]
    },
    {
     "name": "stdout",
     "output_type": "stream",
     "text": [
      "Additional data appended to output.txt.\n",
      "\n",
      "Final content of output.txt:\n",
      "Hello Python!\n",
      "Learning File handing in python!\n"
     ]
    }
   ],
   "source": [
    "# Task 2: Write and Append Data to a File\n",
    "\n",
    "# Step 1: Take user input and write it to output.txt\n",
    "user_text = input(\"Enter some text to write to the file: \")\n",
    "\n",
    "with open(\"output.txt\", \"w\") as file:   # \"w\" = write mode (overwrites file if it exists)\n",
    "    file.write(user_text + \"\\n\")\n",
    "\n",
    "print(\"Data written to output.txt.\")\n",
    "\n",
    "# Step 2: Append additional data\n",
    "extra_text = input(\"Enter some more text to append: \")\n",
    "\n",
    "with open(\"output.txt\", \"a\") as file:   # \"a\" = append mode\n",
    "    file.write(extra_text + \"\\n\")\n",
    "\n",
    "print(\"Additional data appended to output.txt.\")\n",
    "\n",
    "# Step 3: Read and display the final content\n",
    "print(\"\\nFinal content of output.txt:\")\n",
    "with open(\"output.txt\", \"r\") as file:   # \"r\" = read mode\n",
    "    for line in file:\n",
    "        print(line.strip())\n"
   ]
  },
  {
   "cell_type": "code",
   "execution_count": null,
   "id": "7c21ee6d-e284-4fcd-9c21-dc09ae988d25",
   "metadata": {},
   "outputs": [],
   "source": []
  }
 ],
 "metadata": {
  "kernelspec": {
   "display_name": "Python 3 (ipykernel)",
   "language": "python",
   "name": "python3"
  },
  "language_info": {
   "codemirror_mode": {
    "name": "ipython",
    "version": 3
   },
   "file_extension": ".py",
   "mimetype": "text/x-python",
   "name": "python",
   "nbconvert_exporter": "python",
   "pygments_lexer": "ipython3",
   "version": "3.12.3"
  }
 },
 "nbformat": 4,
 "nbformat_minor": 5
}
