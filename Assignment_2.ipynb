{
 "cells": [
  {
   "cell_type": "markdown",
   "id": "302f4969-c448-4b70-865a-89976e31eef7",
   "metadata": {},
   "source": [
    "### Task - 1"
   ]
  },
  {
   "cell_type": "code",
   "execution_count": 26,
   "id": "669c68e5-af1e-4882-9112-e6b885ecc109",
   "metadata": {},
   "outputs": [
    {
     "name": "stdin",
     "output_type": "stream",
     "text": [
      "Enter a Number:  7\n"
     ]
    },
    {
     "name": "stdout",
     "output_type": "stream",
     "text": [
      "7 is an Odd number.\n"
     ]
    }
   ],
   "source": [
    "num = int(input(\"Enter a Number: \"))\n",
    "\n",
    "if a %2 == 0:\n",
    "    print(f\"{num} is an Even number.\")\n",
    "else:\n",
    "    print(f\"{num} is an Odd number.\")"
   ]
  },
  {
   "cell_type": "code",
   "execution_count": 27,
   "id": "827996fb-ef32-4dee-b980-6f222cda4bf2",
   "metadata": {},
   "outputs": [
    {
     "name": "stdin",
     "output_type": "stream",
     "text": [
      "Enter a Number:  12\n"
     ]
    },
    {
     "name": "stdout",
     "output_type": "stream",
     "text": [
      "12 is an Odd number.\n"
     ]
    }
   ],
   "source": [
    "num = int(input(\"Enter a Number: \"))\n",
    "\n",
    "if a %2 == 0:\n",
    "    print(f\"{num} is an Even number.\")\n",
    "else:\n",
    "    print(f\"{num} is an Odd number.\")"
   ]
  },
  {
   "cell_type": "code",
   "execution_count": 32,
   "id": "10832638-c87f-41da-8583-ab335e5d1e3d",
   "metadata": {},
   "outputs": [
    {
     "name": "stdout",
     "output_type": "stream",
     "text": [
      "The sum of total number from 1 to 50 is : 1275\n"
     ]
    }
   ],
   "source": [
    "total_sum = 0\n",
    "\n",
    "for num in range(1,51):\n",
    "    total_sum += num\n",
    "\n",
    "print('The sum of total number from 1 to 50 is :', total_sum)"
   ]
  },
  {
   "cell_type": "code",
   "execution_count": null,
   "id": "471117c4-1048-42a3-aad6-9dc8bbf9a18a",
   "metadata": {},
   "outputs": [],
   "source": []
  },
  {
   "cell_type": "code",
   "execution_count": null,
   "id": "002c20b0-48fa-44a2-a79e-e8ecc3e84d1e",
   "metadata": {},
   "outputs": [],
   "source": []
  }
 ],
 "metadata": {
  "kernelspec": {
   "display_name": "Python 3 (ipykernel)",
   "language": "python",
   "name": "python3"
  },
  "language_info": {
   "codemirror_mode": {
    "name": "ipython",
    "version": 3
   },
   "file_extension": ".py",
   "mimetype": "text/x-python",
   "name": "python",
   "nbconvert_exporter": "python",
   "pygments_lexer": "ipython3",
   "version": "3.12.3"
  }
 },
 "nbformat": 4,
 "nbformat_minor": 5
}
