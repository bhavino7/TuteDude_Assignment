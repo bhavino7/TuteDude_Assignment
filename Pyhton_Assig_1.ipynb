{
 "cells": [
  {
   "cell_type": "markdown",
   "id": "1663de4b-155f-4512-9db8-9485a19047db",
   "metadata": {},
   "source": [
    "### Task-1"
   ]
  },
  {
   "cell_type": "code",
   "execution_count": 66,
   "id": "3631a646-3304-44e7-a5f7-98f93b1cb825",
   "metadata": {
    "scrolled": true
   },
   "outputs": [
    {
     "name": "stdin",
     "output_type": "stream",
     "text": [
      "Enter the first number :  5\n",
      "Enter the second number :  10\n"
     ]
    },
    {
     "name": "stdout",
     "output_type": "stream",
     "text": [
      "Addition :  15\n",
      "Subtraction :  -5\n",
      "Multiplication :  50\n",
      "Division :  0.5\n"
     ]
    }
   ],
   "source": [
    "a = int(input(\"Enter the first number : \"))\n",
    "b = int(input(\"Enter the second number : \"))\n",
    "\n",
    "c= a+b\n",
    "print (\"Addition : \",c)\n",
    "\n",
    "d= a-b\n",
    "print (\"Subtraction : \",d)\n",
    "\n",
    "e= a*b\n",
    "print (\"Multiplication : \",e)\n",
    "\n",
    "f= a/b\n",
    "print (\"Division : \",f)"
   ]
  },
  {
   "cell_type": "markdown",
   "id": "f4b38671-0a6c-4094-a7c5-cc264b25da27",
   "metadata": {},
   "source": [
    "### Task -2"
   ]
  },
  {
   "cell_type": "code",
   "execution_count": 69,
   "id": "163f2507-ef29-426f-98df-b933a6341ccd",
   "metadata": {},
   "outputs": [
    {
     "name": "stdin",
     "output_type": "stream",
     "text": [
      "Enter your first Name :  John\n",
      "Enter your second Name :  Doe\n"
     ]
    },
    {
     "name": "stdout",
     "output_type": "stream",
     "text": [
      "Hello, John Doe! Welcome to the python program.\n"
     ]
    }
   ],
   "source": [
    "first_name = input(\"Enter your first Name : \")\n",
    "last_name = input(\"Enter your second Name : \")\n",
    "\n",
    "full_name = first_name +\" \" + last_name\n",
    "\n",
    "print(\"Hello,\", full_name + \"! Welcome to the python program.\")"
   ]
  },
  {
   "cell_type": "code",
   "execution_count": null,
   "id": "9ecc0d77-2b32-405c-96d9-2bce4ec77f88",
   "metadata": {},
   "outputs": [],
   "source": []
  }
 ],
 "metadata": {
  "kernelspec": {
   "display_name": "Python 3 (ipykernel)",
   "language": "python",
   "name": "python3"
  },
  "language_info": {
   "codemirror_mode": {
    "name": "ipython",
    "version": 3
   },
   "file_extension": ".py",
   "mimetype": "text/x-python",
   "name": "python",
   "nbconvert_exporter": "python",
   "pygments_lexer": "ipython3",
   "version": "3.12.3"
  }
 },
 "nbformat": 4,
 "nbformat_minor": 5
}
